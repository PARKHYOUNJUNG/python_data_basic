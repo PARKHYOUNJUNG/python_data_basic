{
  "cells": [
    {
      "cell_type": "markdown",
      "metadata": {
        "id": "view-in-github",
        "colab_type": "text"
      },
      "source": [
        "<a href=\"https://colab.research.google.com/github/zzhining/python_data_basic/blob/main/02_01_%EB%B3%80%EC%88%98.ipynb\" target=\"_parent\"><img src=\"https://colab.research.google.com/assets/colab-badge.svg\" alt=\"Open In Colab\"/></a>"
      ]
    },
    {
      "cell_type": "markdown",
      "metadata": {
        "id": "7IF9xbpaYD2H"
      },
      "source": [
        "# 2.1.1 변수란 무엇일까요?\n",
        "\n",
        "변수는 바구니이다.\n",
        "\n",
        "`변수이름 = 데이터`"
      ]
    },
    {
      "cell_type": "code",
      "execution_count": null,
      "metadata": {
        "id": "KvOcii3pYD2L",
        "outputId": "ff048725-05b0-4892-d2c7-54dc6c73e730"
      },
      "outputs": [
        {
          "data": {
            "text/plain": [
              "5"
            ]
          },
          "execution_count": 1,
          "metadata": {},
          "output_type": "execute_result"
        }
      ],
      "source": [
        "a = 5    # a라는 바구니에 값 5를 넣는다. [Enter]\n",
        "a         # a 안에 있는 값을 확인한다.     [▶Run 또는 Shift + Enter]"
      ]
    },
    {
      "cell_type": "code",
      "execution_count": null,
      "metadata": {
        "id": "kdq0hhIOYD2N",
        "outputId": "432cb00b-4687-49d3-ba2e-09e6c430905e"
      },
      "outputs": [
        {
          "data": {
            "text/plain": [
              "3"
            ]
          },
          "execution_count": 2,
          "metadata": {},
          "output_type": "execute_result"
        }
      ],
      "source": [
        "b = 3    # b라는 바구니에 값 3을 넣는다. [Enter]\n",
        "b         # b 안에 있는 값을 확인한다.     [▶Run 또는 Shift + Enter]"
      ]
    },
    {
      "cell_type": "code",
      "execution_count": null,
      "metadata": {
        "id": "SmPuVR1mYD2O",
        "outputId": "cc573443-d9f9-4f03-bf58-0b06c338c5a5"
      },
      "outputs": [
        {
          "data": {
            "text/plain": [
              "8"
            ]
          },
          "execution_count": 3,
          "metadata": {},
          "output_type": "execute_result"
        }
      ],
      "source": [
        "a + b    # a 바구니에 있는 값과 b 바구니에 있는 값을 더한다.   [▶Run 또는 Shift + Enter]"
      ]
    },
    {
      "cell_type": "code",
      "execution_count": null,
      "metadata": {
        "id": "z3hdiy4XYD2P",
        "outputId": "81a862f3-a8e3-4acd-911d-ec9974e7ae5e"
      },
      "outputs": [
        {
          "data": {
            "text/plain": [
              "'가나다'"
            ]
          },
          "execution_count": 4,
          "metadata": {},
          "output_type": "execute_result"
        }
      ],
      "source": [
        "c = '가나다'\n",
        "c"
      ]
    },
    {
      "cell_type": "code",
      "execution_count": null,
      "metadata": {
        "id": "gR__nUEQYD2P",
        "outputId": "3a3a14b0-3dc6-42ed-da90-d104d3df5dd5"
      },
      "outputs": [
        {
          "data": {
            "text/plain": [
              "107.9"
            ]
          },
          "execution_count": 5,
          "metadata": {},
          "output_type": "execute_result"
        }
      ],
      "source": [
        "radio_freq = 107.9\n",
        "radio_freq"
      ]
    },
    {
      "cell_type": "markdown",
      "metadata": {
        "id": "SGMVd6rmYD2Q"
      },
      "source": [
        "# 2.1.2 변수 이름을 붙이는 규칙(1) \n",
        " - 꼭 지켜야 하는 규칙"
      ]
    },
    {
      "cell_type": "markdown",
      "source": [
        "**잘못된 변수명**\n",
        "- 숫자로 시작하는 변수\n",
        "- 공백이 포함된 변수\n",
        "- 기호가 포함된 변수(밑줄 제외)\n",
        "- 예약어\n"
      ],
      "metadata": {
        "id": "Q-cWhQr7YmWG"
      }
    },
    {
      "cell_type": "code",
      "execution_count": null,
      "metadata": {
        "id": "e2f9fpmyYD2R",
        "outputId": "16c82326-d6af-4d97-8d62-eb3ac77137d5"
      },
      "outputs": [
        {
          "ename": "SyntaxError",
          "evalue": "invalid syntax (<ipython-input-6-f08ab471a553>, line 2)",
          "output_type": "error",
          "traceback": [
            "\u001b[1;36m  File \u001b[1;32m\"<ipython-input-6-f08ab471a553>\"\u001b[1;36m, line \u001b[1;32m2\u001b[0m\n\u001b[1;33m    2var = \"행복\"\u001b[0m\n\u001b[1;37m       ^\u001b[0m\n\u001b[1;31mSyntaxError\u001b[0m\u001b[1;31m:\u001b[0m invalid syntax\n"
          ]
        }
      ],
      "source": [
        "# 잘못된 변수명: 숫자로 시작하는 변수\n",
        "2var = \"행복\""
      ]
    },
    {
      "cell_type": "code",
      "execution_count": null,
      "metadata": {
        "id": "LT_wUXxFYD2R",
        "outputId": "57016bb6-317d-4d86-c144-7893dab319b5"
      },
      "outputs": [
        {
          "ename": "SyntaxError",
          "evalue": "invalid syntax (<ipython-input-7-57ed49f07157>, line 2)",
          "output_type": "error",
          "traceback": [
            "\u001b[1;36m  File \u001b[1;32m\"<ipython-input-7-57ed49f07157>\"\u001b[1;36m, line \u001b[1;32m2\u001b[0m\n\u001b[1;33m    happy var = \"행복\"\u001b[0m\n\u001b[1;37m            ^\u001b[0m\n\u001b[1;31mSyntaxError\u001b[0m\u001b[1;31m:\u001b[0m invalid syntax\n"
          ]
        }
      ],
      "source": [
        "# 잘못된 변수명: 공백이 포함된 변수\n",
        "happy var = \"행복\""
      ]
    },
    {
      "cell_type": "markdown",
      "metadata": {
        "id": "l7K43tNkYD2S"
      },
      "source": [
        "-----\n",
        "<div class=\"alert alert-warning\">\n",
        "[Tip]  이렇게 변수 이름을 만들면 좋아요\n",
        "</div>"
      ]
    },
    {
      "cell_type": "code",
      "execution_count": null,
      "metadata": {
        "id": "NFqE4ORtYD2T"
      },
      "outputs": [],
      "source": [
        "# Camel Case\n",
        "happyVariable = \"행복\"\n",
        "# Snake Case\n",
        "happpy_variable = \"행복\""
      ]
    },
    {
      "cell_type": "code",
      "execution_count": null,
      "metadata": {
        "id": "gRQHsV2XYD2T"
      },
      "outputs": [],
      "source": [
        "# Hungarian notation\n",
        "bHappyVariable = True"
      ]
    },
    {
      "cell_type": "markdown",
      "metadata": {
        "id": "LMaEIR59YD2U"
      },
      "source": [
        "-------"
      ]
    },
    {
      "cell_type": "code",
      "execution_count": null,
      "metadata": {
        "id": "k9qO0d75YD2U",
        "outputId": "a071d8b4-25f1-4193-e4af-eeb52f72e37e"
      },
      "outputs": [
        {
          "ename": "SyntaxError",
          "evalue": "invalid syntax (<ipython-input-5-cbb9d68a6486>, line 2)",
          "output_type": "error",
          "traceback": [
            "\u001b[1;36m  File \u001b[1;32m\"<ipython-input-5-cbb9d68a6486>\"\u001b[1;36m, line \u001b[1;32m2\u001b[0m\n\u001b[1;33m    happyvar! = \"행복\"\u001b[0m\n\u001b[1;37m            ^\u001b[0m\n\u001b[1;31mSyntaxError\u001b[0m\u001b[1;31m:\u001b[0m invalid syntax\n"
          ]
        }
      ],
      "source": [
        "# 잘못된 변수명: 특수기호(!)가 포함된 변수\n",
        "happyvar! = \"행복\""
      ]
    },
    {
      "cell_type": "code",
      "execution_count": null,
      "metadata": {
        "id": "BZxcVPSpYD2V",
        "outputId": "b7b03188-96cb-4ecc-8311-d8564fe6b3d7"
      },
      "outputs": [
        {
          "ename": "SyntaxError",
          "evalue": "invalid syntax (<ipython-input-9-4ffb7deb5118>, line 2)",
          "output_type": "error",
          "traceback": [
            "\u001b[1;36m  File \u001b[1;32m\"<ipython-input-9-4ffb7deb5118>\"\u001b[1;36m, line \u001b[1;32m2\u001b[0m\n\u001b[1;33m    def = \"행복\"\u001b[0m\n\u001b[1;37m        ^\u001b[0m\n\u001b[1;31mSyntaxError\u001b[0m\u001b[1;31m:\u001b[0m invalid syntax\n"
          ]
        }
      ],
      "source": [
        "# 잘못된 변수명: 파이썬 예약어로 만든 변수\n",
        "def = \"행복\""
      ]
    },
    {
      "cell_type": "markdown",
      "metadata": {
        "id": "k3nNBYvMYD2V"
      },
      "source": [
        "# 2-1.3 변수 이름을 붙이는 규칙(2)\n",
        " - 에러는 발생하지 않지만 알아 두어야 하는 규칙"
      ]
    },
    {
      "cell_type": "markdown",
      "source": [
        "**파이썬 변수명 특징**\n",
        "- 대소문자 구분\n",
        "- 한 번에 여러 변수 선언 가능\n",
        "- 하나의 값을 여러 변수에 담을 수 있음\n"
      ],
      "metadata": {
        "id": "HGqhAC1TY1n6"
      }
    },
    {
      "cell_type": "markdown",
      "metadata": {
        "id": "rsmRlq0XYD2V"
      },
      "source": [
        "## ① 대소문자를 구분한다."
      ]
    },
    {
      "cell_type": "code",
      "execution_count": null,
      "metadata": {
        "id": "Xsp1v5BWYD2V",
        "outputId": "5f394993-91cc-4bd1-81d1-d3b8b86069de"
      },
      "outputs": [
        {
          "data": {
            "text/plain": [
              "5"
            ]
          },
          "execution_count": 10,
          "metadata": {},
          "output_type": "execute_result"
        }
      ],
      "source": [
        "abc = 5\n",
        "abc"
      ]
    },
    {
      "cell_type": "code",
      "execution_count": null,
      "metadata": {
        "id": "gpww3SibYD2W",
        "outputId": "b9fd75f4-325f-4206-9a45-d74f198aac2d"
      },
      "outputs": [
        {
          "data": {
            "text/plain": [
              "'Apple'"
            ]
          },
          "execution_count": 11,
          "metadata": {},
          "output_type": "execute_result"
        }
      ],
      "source": [
        "ABC = \"Apple\"\n",
        "ABC"
      ]
    },
    {
      "cell_type": "markdown",
      "metadata": {
        "id": "W3JKF-3iYD2W"
      },
      "source": [
        "## ② 한 번에 여러 변수를 선언할 수 있다."
      ]
    },
    {
      "cell_type": "code",
      "execution_count": null,
      "metadata": {
        "id": "_RODr0-DYD2W"
      },
      "outputs": [],
      "source": [
        "x, y, z = \"Apple\", \"Banana\", \"Carrot\""
      ]
    },
    {
      "cell_type": "code",
      "execution_count": null,
      "metadata": {
        "id": "j97eTc_SYD2W",
        "outputId": "67fca131-d180-463c-c930-2d46db5415f7"
      },
      "outputs": [
        {
          "data": {
            "text/plain": [
              "'Apple'"
            ]
          },
          "execution_count": 10,
          "metadata": {},
          "output_type": "execute_result"
        }
      ],
      "source": [
        "x"
      ]
    },
    {
      "cell_type": "code",
      "execution_count": null,
      "metadata": {
        "id": "9SflzDAjYD2X",
        "outputId": "cf423284-ef55-4754-93b4-8a037656b430"
      },
      "outputs": [
        {
          "data": {
            "text/plain": [
              "'Banana'"
            ]
          },
          "execution_count": 11,
          "metadata": {},
          "output_type": "execute_result"
        }
      ],
      "source": [
        "y"
      ]
    },
    {
      "cell_type": "code",
      "execution_count": null,
      "metadata": {
        "id": "YWGMixN6YD2X",
        "outputId": "3fa9cef2-4ebd-4a5f-eb3e-59a699322160"
      },
      "outputs": [
        {
          "data": {
            "text/plain": [
              "'Carrot'"
            ]
          },
          "execution_count": 15,
          "metadata": {},
          "output_type": "execute_result"
        }
      ],
      "source": [
        "z"
      ]
    },
    {
      "cell_type": "code",
      "execution_count": null,
      "metadata": {
        "id": "1osy-pqwYD2X",
        "outputId": "b1e63741-7d2c-4dd0-a1ac-31e4a89805b9"
      },
      "outputs": [
        {
          "data": {
            "text/plain": [
              "'Not Use'"
            ]
          },
          "execution_count": 12,
          "metadata": {},
          "output_type": "execute_result"
        }
      ],
      "source": [
        "_, var = \"Not Use\", \"Use\"\n",
        "_"
      ]
    },
    {
      "cell_type": "code",
      "execution_count": null,
      "metadata": {
        "id": "oQblffLjYD2X",
        "outputId": "7ece33df-70ed-4441-b81e-4bddd1b522a6"
      },
      "outputs": [
        {
          "data": {
            "text/plain": [
              "'Use'"
            ]
          },
          "execution_count": 18,
          "metadata": {},
          "output_type": "execute_result"
        }
      ],
      "source": [
        "var"
      ]
    },
    {
      "cell_type": "markdown",
      "metadata": {
        "id": "sNgdX-K0YD2X"
      },
      "source": [
        "## ③ 하나의 값을 여러 변수에 담을 수 있다."
      ]
    },
    {
      "cell_type": "code",
      "execution_count": null,
      "metadata": {
        "id": "gTaEJNNpYD2Y",
        "outputId": "f64257e4-e170-4dbf-9468-259f2ad2a6fb"
      },
      "outputs": [
        {
          "data": {
            "text/plain": [
              "'Dog'"
            ]
          },
          "execution_count": 13,
          "metadata": {},
          "output_type": "execute_result"
        }
      ],
      "source": [
        "x = y = z = \"Dog\"\n",
        "x"
      ]
    },
    {
      "cell_type": "code",
      "execution_count": null,
      "metadata": {
        "id": "yBWSEv21YD2Y",
        "outputId": "0c4b728f-e038-46fa-8772-4629cd3a50e7"
      },
      "outputs": [
        {
          "data": {
            "text/plain": [
              "'Dog'"
            ]
          },
          "execution_count": 21,
          "metadata": {},
          "output_type": "execute_result"
        }
      ],
      "source": [
        "y"
      ]
    },
    {
      "cell_type": "code",
      "execution_count": null,
      "metadata": {
        "id": "7WeNGVq-YD2Y",
        "outputId": "4e366619-3e8e-4b30-d429-4c111706400e"
      },
      "outputs": [
        {
          "data": {
            "text/plain": [
              "'Dog'"
            ]
          },
          "execution_count": 22,
          "metadata": {},
          "output_type": "execute_result"
        }
      ],
      "source": [
        "z"
      ]
    },
    {
      "cell_type": "markdown",
      "source": [
        "**type(변수이름)**\n",
        "- 변수의 자료형을 반환하는 함수\n"
      ],
      "metadata": {
        "id": "xnB5SyfaZIqL"
      }
    },
    {
      "cell_type": "code",
      "execution_count": null,
      "metadata": {
        "id": "i6qZB0dKYD2Y",
        "outputId": "8168467a-50b8-49b8-c181-a523b9fc8754"
      },
      "outputs": [
        {
          "data": {
            "text/plain": [
              "str"
            ]
          },
          "execution_count": 21,
          "metadata": {},
          "output_type": "execute_result"
        }
      ],
      "source": [
        "# 따옴표로 감싼 문자, 'Hello'와 \"Hello\"는 동일\n",
        "a = 'Hello'\n",
        "type(a)"
      ]
    },
    {
      "cell_type": "markdown",
      "source": [
        "**파이썬의 기본 자료형**\n",
        "- 숫자(numeric): 정수(integer), 실수(float)\n",
        "- 불리언(boolean): True, False\n",
        "- 문자형(String)\n"
      ],
      "metadata": {
        "id": "Q9cBkoMLZQyv"
      }
    },
    {
      "cell_type": "code",
      "execution_count": null,
      "metadata": {
        "id": "rZm42AwCYD2Y",
        "outputId": "c5cb9b0d-3705-48d6-ac4c-7e026867f3a1"
      },
      "outputs": [
        {
          "data": {
            "text/plain": [
              "str"
            ]
          },
          "execution_count": 22,
          "metadata": {},
          "output_type": "execute_result"
        }
      ],
      "source": [
        "# 따옴표로 감싼 숫자는 문자\n",
        "b = '123'\n",
        "type(b)"
      ]
    },
    {
      "cell_type": "code",
      "execution_count": null,
      "metadata": {
        "id": "P0Ac-_dSYD2Y",
        "outputId": "138d2c8e-9b1f-45be-97f6-ba4d4a117bb7"
      },
      "outputs": [
        {
          "data": {
            "text/plain": [
              "str"
            ]
          },
          "execution_count": 23,
          "metadata": {},
          "output_type": "execute_result"
        }
      ],
      "source": [
        "# 띄어쓰기가 포함된 문자열\n",
        "c = \"How are you?\"\n",
        "type(c)"
      ]
    },
    {
      "cell_type": "code",
      "execution_count": null,
      "metadata": {
        "id": "29f9v5mRYD2Z",
        "outputId": "df36d702-e9a5-44f2-f2e3-4841f8220ed2"
      },
      "outputs": [
        {
          "ename": "SyntaxError",
          "evalue": "EOL while scanning string literal (<ipython-input-26-1ed65e62d316>, line 1)",
          "output_type": "error",
          "traceback": [
            "\u001b[1;36m  File \u001b[1;32m\"<ipython-input-26-1ed65e62d316>\"\u001b[1;36m, line \u001b[1;32m1\u001b[0m\n\u001b[1;33m    x = \"Twinkle, twinkle, little star,\u001b[0m\n\u001b[1;37m                                       ^\u001b[0m\n\u001b[1;31mSyntaxError\u001b[0m\u001b[1;31m:\u001b[0m EOL while scanning string literal\n"
          ]
        }
      ],
      "source": [
        "x = \"Twinkle, twinkle, little star,\n",
        "How I wonder what you are!\n",
        "Up above the world so high,\n",
        "Like a diamond in the sky.\"\n",
        "x"
      ]
    },
    {
      "cell_type": "code",
      "execution_count": null,
      "metadata": {
        "id": "RbJhfBWSYD2Z",
        "outputId": "d7cf9711-7e6e-4d23-eacd-9aa53e865f15"
      },
      "outputs": [
        {
          "data": {
            "text/plain": [
              "'Twinkle, twinkle, little star,\\nHow I wonder what you are!\\nUp above the world so high,\\nLike a diamond in the sky.'"
            ]
          },
          "execution_count": 27,
          "metadata": {},
          "output_type": "execute_result"
        }
      ],
      "source": [
        "x = \"\"\"Twinkle, twinkle, little star,\n",
        "How I wonder what you are!\n",
        "Up above the world so high,\n",
        "Like a diamond in the sky.\"\"\"\n",
        "x"
      ]
    },
    {
      "cell_type": "code",
      "execution_count": null,
      "metadata": {
        "id": "74Z9z_64YD2Z",
        "outputId": "f76b7078-0f68-4440-93c5-09eb8d6be76b"
      },
      "outputs": [
        {
          "ename": "SyntaxError",
          "evalue": "invalid syntax (<ipython-input-31-4275bbce3138>, line 1)",
          "output_type": "error",
          "traceback": [
            "\u001b[1;36m  File \u001b[1;32m\"<ipython-input-31-4275bbce3138>\"\u001b[1;36m, line \u001b[1;32m1\u001b[0m\n\u001b[1;33m    y = \"He said, \"I love you.\"\"\u001b[0m\n\u001b[1;37m                   ^\u001b[0m\n\u001b[1;31mSyntaxError\u001b[0m\u001b[1;31m:\u001b[0m invalid syntax\n"
          ]
        }
      ],
      "source": [
        "y = \"He said, \"I love you.\"\"\n",
        "y"
      ]
    },
    {
      "cell_type": "code",
      "execution_count": null,
      "metadata": {
        "id": "OJogU9JAYD2Z",
        "outputId": "b589f3d2-651a-4fb4-916d-71aaa6d7a64c"
      },
      "outputs": [
        {
          "data": {
            "text/plain": [
              "'He said, \"I love you.\"'"
            ]
          },
          "execution_count": 32,
          "metadata": {},
          "output_type": "execute_result"
        }
      ],
      "source": [
        "y = 'He said, \"I love you.\"'\n",
        "y"
      ]
    },
    {
      "cell_type": "code",
      "execution_count": null,
      "metadata": {
        "id": "q9v4IiirYD2a",
        "outputId": "8c7e6eea-5e66-403a-be32-06df4b2edadf"
      },
      "outputs": [
        {
          "data": {
            "text/plain": [
              "'He said, \"I love you.\"'"
            ]
          },
          "execution_count": 33,
          "metadata": {},
          "output_type": "execute_result"
        }
      ],
      "source": [
        "y = \"He said, \\\"I love you.\\\"\"\n",
        "y"
      ]
    },
    {
      "cell_type": "markdown",
      "metadata": {
        "id": "80qJR9kkYD2a"
      },
      "source": [
        "## 데이터 타입의 형 변환"
      ]
    },
    {
      "cell_type": "markdown",
      "source": [
        "- int(): 정수형으로 변환\n",
        "- float(): 실수형으로 변환\n",
        "- bool(): 불리언형으로 변환\n",
        "- str(): 문자열로 변환\n"
      ],
      "metadata": {
        "id": "P5E8OvLZZXSe"
      }
    },
    {
      "cell_type": "code",
      "execution_count": null,
      "metadata": {
        "id": "eXcf3zoqYD2a",
        "outputId": "bcb191ac-b77d-42a7-bd12-1833834c5d4b"
      },
      "outputs": [
        {
          "data": {
            "text/plain": [
              "'2050'"
            ]
          },
          "execution_count": 2,
          "metadata": {},
          "output_type": "execute_result"
        }
      ],
      "source": [
        "temperature = '20'\n",
        "humidity = '50'\n",
        "\n",
        "temperature + humidity"
      ]
    },
    {
      "cell_type": "code",
      "execution_count": null,
      "metadata": {
        "id": "aZLm6vSHYD2a",
        "outputId": "0c38f558-0c20-4760-af53-c18550c8deff"
      },
      "outputs": [
        {
          "data": {
            "text/plain": [
              "70"
            ]
          },
          "execution_count": 3,
          "metadata": {},
          "output_type": "execute_result"
        }
      ],
      "source": [
        "int(temperature) + int(humidity)"
      ]
    },
    {
      "cell_type": "code",
      "execution_count": null,
      "metadata": {
        "id": "10ihZQ0qYD2a"
      },
      "outputs": [],
      "source": [
        "a = 0\n",
        "b = 500\n",
        "c = ''\n",
        "d = '하하호호'"
      ]
    },
    {
      "cell_type": "code",
      "execution_count": null,
      "metadata": {
        "id": "XGgL09vNYD2a",
        "outputId": "c4e2d1ab-5beb-4530-d4ad-04556a14b5be"
      },
      "outputs": [
        {
          "data": {
            "text/plain": [
              "False"
            ]
          },
          "execution_count": 21,
          "metadata": {},
          "output_type": "execute_result"
        }
      ],
      "source": [
        "bool(a)"
      ]
    },
    {
      "cell_type": "code",
      "execution_count": null,
      "metadata": {
        "id": "CrXIlmRyYD2b",
        "outputId": "69c53517-2d76-476e-e884-08dd9e93b06d"
      },
      "outputs": [
        {
          "data": {
            "text/plain": [
              "True"
            ]
          },
          "execution_count": 22,
          "metadata": {},
          "output_type": "execute_result"
        }
      ],
      "source": [
        "bool(b)"
      ]
    },
    {
      "cell_type": "code",
      "execution_count": null,
      "metadata": {
        "id": "9b1fqQoRYD2b",
        "outputId": "9e011763-4ea6-4451-a3dc-4f7eb1e3343a"
      },
      "outputs": [
        {
          "data": {
            "text/plain": [
              "False"
            ]
          },
          "execution_count": 23,
          "metadata": {},
          "output_type": "execute_result"
        }
      ],
      "source": [
        "bool(c)"
      ]
    },
    {
      "cell_type": "code",
      "execution_count": null,
      "metadata": {
        "id": "QIDpgXhVYD2b",
        "outputId": "5894afe9-2c2b-48c7-a005-dd7a794e8e2c"
      },
      "outputs": [
        {
          "data": {
            "text/plain": [
              "True"
            ]
          },
          "execution_count": 16,
          "metadata": {},
          "output_type": "execute_result"
        }
      ],
      "source": [
        "bool(d)"
      ]
    }
  ],
  "metadata": {
    "kernelspec": {
      "display_name": "Python 3",
      "language": "python",
      "name": "python3"
    },
    "language_info": {
      "codemirror_mode": {
        "name": "ipython",
        "version": 3
      },
      "file_extension": ".py",
      "mimetype": "text/x-python",
      "name": "python",
      "nbconvert_exporter": "python",
      "pygments_lexer": "ipython3",
      "version": "3.8.5"
    },
    "toc": {
      "base_numbering": 1,
      "nav_menu": {},
      "number_sections": false,
      "sideBar": true,
      "skip_h1_title": false,
      "title_cell": "Table of Contents",
      "title_sidebar": "Contents",
      "toc_cell": false,
      "toc_position": {},
      "toc_section_display": true,
      "toc_window_display": false
    },
    "colab": {
      "provenance": [],
      "include_colab_link": true
    }
  },
  "nbformat": 4,
  "nbformat_minor": 0
}