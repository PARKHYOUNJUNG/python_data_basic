{
  "cells": [
    {
      "cell_type": "markdown",
      "metadata": {
        "id": "view-in-github",
        "colab_type": "text"
      },
      "source": [
        "<a href=\"https://colab.research.google.com/github/zzhining/python_data_basic/blob/main/2%EC%9E%A5/02_03_%EC%9E%90%EB%A3%8C%ED%98%95(2)_%EC%BB%A8%ED%85%8C%EC%9D%B4%EB%84%88_%ED%83%80%EC%9E%85.ipynb\" target=\"_parent\"><img src=\"https://colab.research.google.com/assets/colab-badge.svg\" alt=\"Open In Colab\"/></a>"
      ]
    },
    {
      "cell_type": "markdown",
      "metadata": {
        "id": "CmgaHkdtffRb"
      },
      "source": [
        "# 2.3.1 컨테이너 타입이란?"
      ]
    },
    {
      "cell_type": "markdown",
      "source": [
        "# 2.3.1 컨테이너 타입이란?\n",
        "\n",
        "* 컨테이너 타입은 여러 개의 값을 다루는 자료형입니다. **list, tuple, set, dictionary**가 있습니다.\n",
        "    - **리스트(list)** : 데이터를 연속적으로 관리, 값을 바꿀 수 있음, 예:`['가', '나', '다', '라']`\n",
        "\n",
        "    - **튜플(tuple)** : 데이터를 연속적으로 관리, 값을 바꿀 수 없음, 예:`('가', '나', '다', '라')`\n",
        "    - **세트(set)** : 집합과 같은 속성, 예:`{'가', '나', '다', '라'}`\n",
        "    - **딕셔너리(dictionary)** : key-value 쌍, 예: `{'가':123, '나':456, '다':789}`"
      ],
      "metadata": {
        "id": "SXeowFfzflxQ"
      }
    },
    {
      "cell_type": "code",
      "execution_count": null,
      "metadata": {
        "id": "1G3vOEayffRe"
      },
      "outputs": [],
      "source": [
        "score_1 = 80\n",
        "score_2 = 90\n",
        "score_3 = 70\n",
        "score_4 = 65\n",
        "score_5 = 100\n",
        "score_6 = 95\n",
        "score_7 = 90\n",
        "score_8 = 80\n",
        "score_9 = 75\n",
        "score_10 = 80"
      ]
    },
    {
      "cell_type": "code",
      "execution_count": null,
      "metadata": {
        "id": "nDZls1yoffRg"
      },
      "outputs": [],
      "source": [
        "scores = [80, 90, 70, 65, 100, 95, 90, 80, 75, 80]"
      ]
    },
    {
      "cell_type": "markdown",
      "metadata": {
        "id": "ZQsLlnDUffRg"
      },
      "source": [
        "# 2.3.2 리스트"
      ]
    },
    {
      "cell_type": "markdown",
      "source": [
        "![image-20230119191110398.png](data:image/png;base64,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)"
      ],
      "metadata": {
        "id": "-3ibWjnpiX4j"
      }
    },
    {
      "cell_type": "markdown",
      "metadata": {
        "id": "x8yItsAxffRh"
      },
      "source": [
        "## 2.3.2.1 리스트 생성"
      ]
    },
    {
      "cell_type": "code",
      "execution_count": null,
      "metadata": {
        "id": "lGV0qFQRffRh"
      },
      "outputs": [],
      "source": [
        "fruit_list = [\"apple\", \"banana\", \"orange\"]"
      ]
    },
    {
      "cell_type": "code",
      "execution_count": null,
      "metadata": {
        "id": "Ndu-1ZeiffRh",
        "outputId": "4367853e-04b8-4ee0-8a75-958097eba24a"
      },
      "outputs": [
        {
          "data": {
            "text/plain": [
              "['apple', 'banana', 'orange', 'apple', 'banana']"
            ]
          },
          "execution_count": 4,
          "metadata": {},
          "output_type": "execute_result"
        }
      ],
      "source": [
        "# 중복허용\n",
        "fruit_list = [\"apple\", \"banana\", \"orange\", \"apple\", \"banana\"]\n",
        "fruit_list"
      ]
    },
    {
      "cell_type": "markdown",
      "metadata": {
        "id": "EsLQWNsnffRj"
      },
      "source": [
        "## 2.3.2.2 아이템 선택"
      ]
    },
    {
      "cell_type": "markdown",
      "metadata": {
        "id": "lfSz2BloffRj"
      },
      "source": [
        "### ① 기본 인덱스"
      ]
    },
    {
      "cell_type": "code",
      "execution_count": null,
      "metadata": {
        "id": "JkTjZ8-dffRj",
        "outputId": "949f8936-41b8-4241-9c8f-96d2a0a93f4c"
      },
      "outputs": [
        {
          "data": {
            "text/plain": [
              "'apple'"
            ]
          },
          "execution_count": 5,
          "metadata": {},
          "output_type": "execute_result"
        }
      ],
      "source": [
        "fruit_list = [\"apple\", \"banana\", \"orange\"]\n",
        "fruit_list[0]"
      ]
    },
    {
      "cell_type": "code",
      "execution_count": null,
      "metadata": {
        "id": "1paDdLwNffRk",
        "outputId": "64f08af5-3018-4a82-bd6d-e00f9baab960"
      },
      "outputs": [
        {
          "data": {
            "text/plain": [
              "'banana'"
            ]
          },
          "execution_count": 6,
          "metadata": {},
          "output_type": "execute_result"
        }
      ],
      "source": [
        "fruit_list[1]"
      ]
    },
    {
      "cell_type": "code",
      "execution_count": null,
      "metadata": {
        "id": "AIyrqJQtffRk",
        "outputId": "a2614c21-0ab9-4bfd-9f76-4058675adcff"
      },
      "outputs": [
        {
          "data": {
            "text/plain": [
              "'orange'"
            ]
          },
          "execution_count": 7,
          "metadata": {},
          "output_type": "execute_result"
        }
      ],
      "source": [
        "fruit_list[2]"
      ]
    },
    {
      "cell_type": "code",
      "execution_count": null,
      "metadata": {
        "id": "wBVTA7wEffRl",
        "outputId": "b6717c51-ebc2-4d68-a084-d6e81f08c411"
      },
      "outputs": [
        {
          "ename": "IndexError",
          "evalue": "list index out of range",
          "output_type": "error",
          "traceback": [
            "\u001b[1;31m---------------------------------------------------------------------------\u001b[0m",
            "\u001b[1;31mIndexError\u001b[0m                                Traceback (most recent call last)",
            "\u001b[1;32m<ipython-input-8-6f9a1405e6b2>\u001b[0m in \u001b[0;36m<module>\u001b[1;34m\u001b[0m\n\u001b[1;32m----> 1\u001b[1;33m \u001b[0mfruit_list\u001b[0m\u001b[1;33m[\u001b[0m\u001b[1;36m3\u001b[0m\u001b[1;33m]\u001b[0m\u001b[1;33m\u001b[0m\u001b[1;33m\u001b[0m\u001b[0m\n\u001b[0m",
            "\u001b[1;31mIndexError\u001b[0m: list index out of range"
          ]
        }
      ],
      "source": [
        "fruit_list[3]"
      ]
    },
    {
      "cell_type": "markdown",
      "metadata": {
        "id": "yLfEVfbgffRl"
      },
      "source": [
        "------\n",
        "<div class=\"alert alert-warning\">\n",
        "[Tip] 리스트 길이 확인하는 방법\n",
        "</div>"
      ]
    },
    {
      "cell_type": "code",
      "execution_count": null,
      "metadata": {
        "id": "giKgkUNpffRl",
        "outputId": "5bc950d4-27e1-4975-c733-e66d8d88164a"
      },
      "outputs": [
        {
          "data": {
            "text/plain": [
              "3"
            ]
          },
          "execution_count": 9,
          "metadata": {},
          "output_type": "execute_result"
        }
      ],
      "source": [
        "fruit_list = [\"apple\", \"banana\", \"orange\"]\n",
        "len(fruit_list)"
      ]
    },
    {
      "cell_type": "markdown",
      "metadata": {
        "id": "zbYeBI3SffRl"
      },
      "source": [
        "----------"
      ]
    },
    {
      "cell_type": "markdown",
      "metadata": {
        "id": "zRu26P2mffRm"
      },
      "source": [
        "### ② 마이너스 인덱스"
      ]
    },
    {
      "cell_type": "code",
      "execution_count": null,
      "metadata": {
        "id": "nOw8_xWwffRm",
        "outputId": "725faf1f-d2d4-4d37-cba8-226546ca745e"
      },
      "outputs": [
        {
          "data": {
            "text/plain": [
              "'orange'"
            ]
          },
          "execution_count": 10,
          "metadata": {},
          "output_type": "execute_result"
        }
      ],
      "source": [
        "fruit_list[-1]"
      ]
    },
    {
      "cell_type": "code",
      "execution_count": null,
      "metadata": {
        "id": "sm0GBU7vffRm",
        "outputId": "a69c80d0-ba4f-419c-e47b-c5c80ad384d1"
      },
      "outputs": [
        {
          "data": {
            "text/plain": [
              "'banana'"
            ]
          },
          "execution_count": 11,
          "metadata": {},
          "output_type": "execute_result"
        }
      ],
      "source": [
        "fruit_list[-2]"
      ]
    },
    {
      "cell_type": "markdown",
      "metadata": {
        "id": "cNTVDmLyffRm"
      },
      "source": [
        "### ③ 콜론을 사용한 인덱스 범위 지정"
      ]
    },
    {
      "cell_type": "code",
      "execution_count": null,
      "metadata": {
        "id": "BHhvWe9_ffRn",
        "outputId": "e57796e1-fb2c-4d33-c263-aefcdb4504c1"
      },
      "outputs": [
        {
          "data": {
            "text/plain": [
              "['banana', 'orange']"
            ]
          },
          "execution_count": 12,
          "metadata": {},
          "output_type": "execute_result"
        }
      ],
      "source": [
        "fruit_list[1:3]"
      ]
    },
    {
      "cell_type": "code",
      "execution_count": null,
      "metadata": {
        "id": "1xwWrIjeffRn",
        "outputId": "3f84e4c1-e33f-4be7-b2c0-0833986109d0"
      },
      "outputs": [
        {
          "data": {
            "text/plain": [
              "['apple', 'banana', 'orange']"
            ]
          },
          "execution_count": 13,
          "metadata": {},
          "output_type": "execute_result"
        }
      ],
      "source": [
        "fruit_list[:3]    # 시작 위치를 지정하지 않음"
      ]
    },
    {
      "cell_type": "code",
      "execution_count": null,
      "metadata": {
        "id": "JP56HttrffRn",
        "outputId": "b83c3865-8163-484a-e736-62132de09dcf"
      },
      "outputs": [
        {
          "data": {
            "text/plain": [
              "['banana', 'orange']"
            ]
          },
          "execution_count": 14,
          "metadata": {},
          "output_type": "execute_result"
        }
      ],
      "source": [
        "fruit_list[1:]    # 종료 위치를 지정하지 않음"
      ]
    },
    {
      "cell_type": "code",
      "execution_count": null,
      "metadata": {
        "id": "rvJOGM9YffRn",
        "outputId": "497d1538-7d5a-404c-f577-7637095d3ceb"
      },
      "outputs": [
        {
          "data": {
            "text/plain": [
              "['apple', 'banana', 'orange']"
            ]
          },
          "execution_count": 15,
          "metadata": {},
          "output_type": "execute_result"
        }
      ],
      "source": [
        "fruit_list[:]     # 시작, 종료 위치를 지정하지 않음 = 전체 선택"
      ]
    },
    {
      "cell_type": "code",
      "execution_count": null,
      "metadata": {
        "id": "rx87ees9ffRo",
        "outputId": "6ddf21f8-aa30-433e-fbcb-141fcfb3ff60"
      },
      "outputs": [
        {
          "data": {
            "text/plain": [
              "['apple', 'kiwi', 'orange']"
            ]
          },
          "execution_count": 16,
          "metadata": {},
          "output_type": "execute_result"
        }
      ],
      "source": [
        "fruit_list[1] = \"kiwi\" # 1번 위치의 아이템에 새로운 값 할당\n",
        "fruit_list"
      ]
    },
    {
      "cell_type": "code",
      "execution_count": null,
      "metadata": {
        "id": "LIUQkrHYffRo",
        "outputId": "5e826229-826c-4d03-ae4d-640453728535"
      },
      "outputs": [
        {
          "data": {
            "text/plain": [
              "['apple', 'strawberry', 'blueberry']"
            ]
          },
          "execution_count": 17,
          "metadata": {},
          "output_type": "execute_result"
        }
      ],
      "source": [
        "fruit_list[1:3] = [\"strawberry\", \"blueberry\"]\n",
        "fruit_list"
      ]
    },
    {
      "cell_type": "markdown",
      "metadata": {
        "id": "t2LMTaWbffRo"
      },
      "source": [
        "## 2.3.2.3 아이템 추가"
      ]
    },
    {
      "cell_type": "markdown",
      "metadata": {
        "id": "4E1Y_iMkffRo"
      },
      "source": [
        "<div class=\"alert alert-success\">\n",
        "[문제]현재 fruit_list에는 ['apple', 'strawberry', 'blueberry'] 세 개의 값이 들어 있습니다. 2번 인덱스(즉, 세 번째) 위치에 “mango” 아이템을 추가하세요.\n",
        "</div>"
      ]
    },
    {
      "cell_type": "code",
      "execution_count": null,
      "metadata": {
        "id": "wNr2ibnwffRo",
        "outputId": "8c3ca1b5-8435-4c7d-df05-d8d9077cdfc8"
      },
      "outputs": [
        {
          "data": {
            "text/plain": [
              "['apple', 'strawberry', 'mango', 'blueberry']"
            ]
          },
          "execution_count": 18,
          "metadata": {},
          "output_type": "execute_result"
        }
      ],
      "source": [
        "fruit_list.insert(2, \"mango\")\n",
        "fruit_list"
      ]
    },
    {
      "cell_type": "markdown",
      "metadata": {
        "id": "24g_Hde0ffRo"
      },
      "source": [
        "<div class=\"alert alert-success\">\n",
        "[문제]현재 fruit_list에는 ['apple', 'strawberry', 'mango', 'blueberry']\n",
        "네 개의 값이 들어 있습니다. 마지막 위치에 “watermelon” 아이템을 추가하세요.\n",
        "</div>"
      ]
    },
    {
      "cell_type": "code",
      "execution_count": null,
      "metadata": {
        "id": "2cXIDqHOffRp",
        "outputId": "1e8312db-3385-4283-d1d9-bd22ecaea650"
      },
      "outputs": [
        {
          "data": {
            "text/plain": [
              "['apple', 'strawberry', 'mango', 'blueberry', 'watermelon']"
            ]
          },
          "execution_count": 19,
          "metadata": {},
          "output_type": "execute_result"
        }
      ],
      "source": [
        "fruit_list.append(\"watermelon\")\n",
        "fruit_list"
      ]
    },
    {
      "cell_type": "markdown",
      "metadata": {
        "id": "N0Qf4Bt3ffRp"
      },
      "source": [
        "<div class=\"alert alert-success\">\n",
        "[문제]현재 fruit_list에는 ['apple', 'strawberry', 'mango', 'blueberry', 'watermelon'] 다섯 개의 아이템이 들어 있습니다. 그리고 vegetable_list에는 [\"carrot\", \"tomato\", \"onion\"] 세 개의 아이템이 들어 있습니다. fruit_list에 vegetable_list에 있는 아이템을 추가하세요.\n",
        "</div>"
      ]
    },
    {
      "cell_type": "code",
      "execution_count": null,
      "metadata": {
        "id": "LFEMLKAFffRp",
        "outputId": "7dd96f2a-2c5b-4418-9ffe-c2952e599292"
      },
      "outputs": [
        {
          "data": {
            "text/plain": [
              "['apple',\n",
              " 'strawberry',\n",
              " 'mango',\n",
              " 'blueberry',\n",
              " 'watermelon',\n",
              " 'carrot',\n",
              " 'tomato',\n",
              " 'onion']"
            ]
          },
          "execution_count": 20,
          "metadata": {},
          "output_type": "execute_result"
        }
      ],
      "source": [
        "vegetable_list = [\"carrot\", \"tomato\", \"onion\"]\n",
        "fruit_list.extend(vegetable_list)\n",
        "fruit_list"
      ]
    },
    {
      "cell_type": "markdown",
      "metadata": {
        "id": "Ei0zoC29ffRp"
      },
      "source": [
        "<div class=\"alert alert-success\">\n",
        "[문제]list1에는 [1, 2, 3], list2에는  ['가', '나', '다']가 들어 있습니다. 이 두 리스트의 아이템을 모두 포함하는 list3를 만들어 보세요.\n",
        "</div>"
      ]
    },
    {
      "cell_type": "code",
      "execution_count": null,
      "metadata": {
        "id": "1Xfc-1Y4ffRp",
        "outputId": "2909d4fa-7cc5-413a-a46f-e03ef7c24f82"
      },
      "outputs": [
        {
          "data": {
            "text/plain": [
              "[1, 2, 3, '가', '나', '다']"
            ]
          },
          "execution_count": 21,
          "metadata": {},
          "output_type": "execute_result"
        }
      ],
      "source": [
        "list1 = [1, 2, 3]\n",
        "list2 = ['가', '나', '다']\n",
        "list3 = list1 + list2\n",
        "list3"
      ]
    },
    {
      "cell_type": "markdown",
      "metadata": {
        "id": "RZgE90I1ffRq"
      },
      "source": [
        "## 2.3.2.4 아이템 삭제"
      ]
    },
    {
      "cell_type": "markdown",
      "metadata": {
        "id": "tegBX3efffRq"
      },
      "source": [
        "<div class=\"alert alert-success\">\n",
        "[문제]현재 fruit_list에는 [\"apple\", \"tomato\", \"banana\", \"orange\"]네 개의 값이 들어 있습니다. “tomato” 값을 삭제하세요.\n",
        "</div>"
      ]
    },
    {
      "cell_type": "code",
      "execution_count": null,
      "metadata": {
        "id": "PVhKcfhJffRq",
        "outputId": "fe6efca6-c287-494e-cde9-aef3aa599af8"
      },
      "outputs": [
        {
          "data": {
            "text/plain": [
              "['apple', 'banana', 'orange']"
            ]
          },
          "execution_count": 22,
          "metadata": {},
          "output_type": "execute_result"
        }
      ],
      "source": [
        "fruit_list = [\"apple\", \"tomato\", \"banana\", \"orange\"]\n",
        "fruit_list.remove(\"tomato\")\n",
        "fruit_list"
      ]
    },
    {
      "cell_type": "markdown",
      "metadata": {
        "id": "zPEbV-SAffRq"
      },
      "source": [
        "<div class=\"alert alert-success\">\n",
        "[문제]현재 fruit_list에는 ['apple', 'banana', 'orange'] 세 개의 값이 들어 있습니다. 리스트 가장 마지막에 위치한 아이템을 삭제하세요.\n",
        "</div"
      ]
    },
    {
      "cell_type": "code",
      "execution_count": null,
      "metadata": {
        "id": "oT9LYGpaffRq",
        "outputId": "625bc970-6bd8-48b5-f266-4a175d0431f8"
      },
      "outputs": [
        {
          "data": {
            "text/plain": [
              "['apple', 'banana']"
            ]
          },
          "execution_count": 23,
          "metadata": {},
          "output_type": "execute_result"
        }
      ],
      "source": [
        "del fruit_list[-1]\n",
        "fruit_list"
      ]
    },
    {
      "cell_type": "markdown",
      "metadata": {
        "id": "rEOJGs1LffRq"
      },
      "source": [
        "<div class=\"alert alert-success\">\n",
        "현재 fruit_list에는 ['apple', 'banana'] 두 개의 값이 들어 있습니다. fruit_list리스트를 삭제하세요.\n",
        "</div>"
      ]
    },
    {
      "cell_type": "code",
      "execution_count": null,
      "metadata": {
        "id": "I4Q9w4yCffRr",
        "outputId": "cb1fc1c8-a8d7-43a0-ff70-cd33d3787f81"
      },
      "outputs": [
        {
          "ename": "NameError",
          "evalue": "name 'fruit_list' is not defined",
          "output_type": "error",
          "traceback": [
            "\u001b[1;31m---------------------------------------------------------------------------\u001b[0m",
            "\u001b[1;31mNameError\u001b[0m                                 Traceback (most recent call last)",
            "\u001b[1;32m<ipython-input-24-959c847a65c7>\u001b[0m in \u001b[0;36m<module>\u001b[1;34m\u001b[0m\n\u001b[0;32m      1\u001b[0m \u001b[1;32mdel\u001b[0m \u001b[0mfruit_list\u001b[0m\u001b[1;33m\u001b[0m\u001b[1;33m\u001b[0m\u001b[0m\n\u001b[1;32m----> 2\u001b[1;33m \u001b[0mfruit_list\u001b[0m\u001b[1;33m\u001b[0m\u001b[1;33m\u001b[0m\u001b[0m\n\u001b[0m",
            "\u001b[1;31mNameError\u001b[0m: name 'fruit_list' is not defined"
          ]
        }
      ],
      "source": [
        "del fruit_list\n",
        "fruit_list"
      ]
    },
    {
      "cell_type": "markdown",
      "metadata": {
        "id": "vFeR0P1LffRr"
      },
      "source": [
        "<div class=\"alert alert-success\">\n",
        "현재 fruit_list에는 [\"apple\", \"banana\", \"orange\"] 세 개의 값이 들어 있습니다. fruit_list리스트 안에 있는 아이템을 모두 삭제하세요.\n",
        "</div>"
      ]
    },
    {
      "cell_type": "code",
      "execution_count": null,
      "metadata": {
        "id": "eOtXpkOqffRr",
        "outputId": "7fb139d9-3228-4b8c-e573-44147c5c8a22"
      },
      "outputs": [
        {
          "data": {
            "text/plain": [
              "[]"
            ]
          },
          "execution_count": 25,
          "metadata": {},
          "output_type": "execute_result"
        }
      ],
      "source": [
        "fruit_list = [\"apple\", \"banana\", \"orange\"]\n",
        "fruit_list.clear()\n",
        "fruit_list"
      ]
    },
    {
      "cell_type": "markdown",
      "metadata": {
        "id": "8Yzc2bLrffRr"
      },
      "source": [
        "## 2.3.2.5 정렬"
      ]
    },
    {
      "cell_type": "code",
      "execution_count": null,
      "metadata": {
        "id": "zVgz4k0offRr",
        "outputId": "1db42dc2-07b3-480c-b320-8312014d8000"
      },
      "outputs": [
        {
          "data": {
            "text/plain": [
              "['apple', 'banana', 'blueberry', 'mango', 'orange', 'strawberry', 'watermelon']"
            ]
          },
          "execution_count": 26,
          "metadata": {},
          "output_type": "execute_result"
        }
      ],
      "source": [
        "fruit_list = ['strawberry', 'mango', 'blueberry', 'watermelon', \"apple\", \"banana\", \"orange\"]\n",
        "fruit_list.sort()\n",
        "fruit_list"
      ]
    },
    {
      "cell_type": "code",
      "execution_count": null,
      "metadata": {
        "id": "uF--ushsffRr",
        "outputId": "5611a9a5-2037-4d19-f8c5-982f40e1614a"
      },
      "outputs": [
        {
          "data": {
            "text/plain": [
              "['watermelon', 'strawberry', 'orange', 'mango', 'blueberry', 'banana', 'apple']"
            ]
          },
          "execution_count": 27,
          "metadata": {},
          "output_type": "execute_result"
        }
      ],
      "source": [
        "fruit_list.sort(reverse = True)\n",
        "fruit_list"
      ]
    },
    {
      "cell_type": "markdown",
      "metadata": {
        "id": "Zvuh8ZJHffRs"
      },
      "source": [
        "# 2.3.3 튜플"
      ]
    },
    {
      "cell_type": "markdown",
      "metadata": {
        "id": "R61AdT1DffRs"
      },
      "source": [
        "## 2.3.3.1 튜플 생성"
      ]
    },
    {
      "cell_type": "code",
      "execution_count": null,
      "metadata": {
        "id": "ncBSvDBTffRs"
      },
      "outputs": [],
      "source": [
        "fruit_tuple = (\"apple\", \"banana\", \"orange\")"
      ]
    },
    {
      "cell_type": "code",
      "execution_count": null,
      "metadata": {
        "id": "AXYcq5-fffRs",
        "outputId": "7180ee5d-254c-4da6-c610-cbcbf9f490a4"
      },
      "outputs": [
        {
          "data": {
            "text/plain": [
              "('apple', 'banana', 'orange', 'apple', 'banana')"
            ]
          },
          "execution_count": 29,
          "metadata": {},
          "output_type": "execute_result"
        }
      ],
      "source": [
        "fruit_tuple = (\"apple\", \"banana\", \"orange\", \"apple\", \"banana\")\n",
        "fruit_tuple"
      ]
    },
    {
      "cell_type": "markdown",
      "metadata": {
        "id": "9h-scQaTffRs"
      },
      "source": [
        "## 2.3.3.2 아이템 선택"
      ]
    },
    {
      "cell_type": "code",
      "execution_count": null,
      "metadata": {
        "id": "jr6qFBaVffRs",
        "outputId": "adf8ed1b-bf3f-4ccf-dce2-aace60eb7a1d"
      },
      "outputs": [
        {
          "data": {
            "text/plain": [
              "'banana'"
            ]
          },
          "execution_count": 30,
          "metadata": {},
          "output_type": "execute_result"
        }
      ],
      "source": [
        "fruit_tuple = (\"apple\", \"banana\", \"orange\")\n",
        "fruit_tuple[1]"
      ]
    },
    {
      "cell_type": "code",
      "execution_count": null,
      "metadata": {
        "id": "L4hPnlprffRs",
        "outputId": "56044d2a-7f0a-4f89-b18f-582d2ac21f7c"
      },
      "outputs": [
        {
          "ename": "TypeError",
          "evalue": "'tuple' object does not support item assignment",
          "output_type": "error",
          "traceback": [
            "\u001b[1;31m---------------------------------------------------------------------------\u001b[0m",
            "\u001b[1;31mTypeError\u001b[0m                                 Traceback (most recent call last)",
            "\u001b[1;32m<ipython-input-31-a09fd5403afe>\u001b[0m in \u001b[0;36m<module>\u001b[1;34m\u001b[0m\n\u001b[0;32m      1\u001b[0m \u001b[1;31m# 아이템 변경 안됨\u001b[0m\u001b[1;33m\u001b[0m\u001b[1;33m\u001b[0m\u001b[1;33m\u001b[0m\u001b[0m\n\u001b[1;32m----> 2\u001b[1;33m \u001b[0mfruit_tuple\u001b[0m\u001b[1;33m[\u001b[0m\u001b[1;36m1\u001b[0m\u001b[1;33m]\u001b[0m \u001b[1;33m=\u001b[0m \u001b[1;34m\"kiwi\"\u001b[0m\u001b[1;33m\u001b[0m\u001b[1;33m\u001b[0m\u001b[0m\n\u001b[0m",
            "\u001b[1;31mTypeError\u001b[0m: 'tuple' object does not support item assignment"
          ]
        }
      ],
      "source": [
        "# 아이템 변경 안됨\n",
        "fruit_tuple[1] = \"kiwi\""
      ]
    },
    {
      "cell_type": "markdown",
      "metadata": {
        "id": "ZANdri90ffRt"
      },
      "source": [
        "## 2.3.3.3 아이템 추가/삭제"
      ]
    },
    {
      "cell_type": "code",
      "execution_count": null,
      "metadata": {
        "id": "BEJBWHrPffRt",
        "outputId": "babdfe83-3ca3-4fe3-f6f1-7051cde43d13"
      },
      "outputs": [
        {
          "ename": "AttributeError",
          "evalue": "'tuple' object has no attribute 'append'",
          "output_type": "error",
          "traceback": [
            "\u001b[1;31m---------------------------------------------------------------------------\u001b[0m",
            "\u001b[1;31mAttributeError\u001b[0m                            Traceback (most recent call last)",
            "\u001b[1;32m<ipython-input-32-40d379ebc83b>\u001b[0m in \u001b[0;36m<module>\u001b[1;34m\u001b[0m\n\u001b[1;32m----> 1\u001b[1;33m \u001b[0mfruit_tuple\u001b[0m\u001b[1;33m.\u001b[0m\u001b[0mappend\u001b[0m\u001b[1;33m(\u001b[0m\u001b[1;34m\"watermelon\"\u001b[0m\u001b[1;33m)\u001b[0m\u001b[1;33m\u001b[0m\u001b[1;33m\u001b[0m\u001b[0m\n\u001b[0m",
            "\u001b[1;31mAttributeError\u001b[0m: 'tuple' object has no attribute 'append'"
          ]
        }
      ],
      "source": [
        "fruit_tuple.append(\"watermelon\")"
      ]
    },
    {
      "cell_type": "code",
      "execution_count": null,
      "metadata": {
        "id": "VbNMS6voffRt",
        "outputId": "c8a1c4b2-6571-45ed-b250-bc74f66b3322"
      },
      "outputs": [
        {
          "ename": "AttributeError",
          "evalue": "'tuple' object has no attribute 'remove'",
          "output_type": "error",
          "traceback": [
            "\u001b[1;31m---------------------------------------------------------------------------\u001b[0m",
            "\u001b[1;31mAttributeError\u001b[0m                            Traceback (most recent call last)",
            "\u001b[1;32m<ipython-input-33-4689ee50c2cb>\u001b[0m in \u001b[0;36m<module>\u001b[1;34m\u001b[0m\n\u001b[1;32m----> 1\u001b[1;33m \u001b[0mfruit_tuple\u001b[0m\u001b[1;33m.\u001b[0m\u001b[0mremove\u001b[0m\u001b[1;33m(\u001b[0m\u001b[1;34m\"apple\"\u001b[0m\u001b[1;33m)\u001b[0m\u001b[1;33m\u001b[0m\u001b[1;33m\u001b[0m\u001b[0m\n\u001b[0m",
            "\u001b[1;31mAttributeError\u001b[0m: 'tuple' object has no attribute 'remove'"
          ]
        }
      ],
      "source": [
        "fruit_tuple.remove(\"apple\")"
      ]
    },
    {
      "cell_type": "code",
      "execution_count": null,
      "metadata": {
        "id": "0v--QO-2ffRt",
        "outputId": "dd51457b-f109-4b30-8be2-56b022f9cb43"
      },
      "outputs": [
        {
          "data": {
            "text/plain": [
              "('banana', 'orange', 'watermelon')"
            ]
          },
          "execution_count": 34,
          "metadata": {},
          "output_type": "execute_result"
        }
      ],
      "source": [
        "# 튜플을 리스트로 형 변환\n",
        "fruite_list = list(fruit_tuple)\n",
        "\n",
        "# 리스트의 값 편집, 추가 및 삭제\n",
        "fruite_list.append(\"watermelon\")\n",
        "fruite_list.remove(\"apple\")\n",
        "\n",
        "# 리스트를 다시 튜플로 형 변환\n",
        "fruit_tuple = tuple(fruite_list)\n",
        "fruit_tuple"
      ]
    },
    {
      "cell_type": "code",
      "execution_count": null,
      "metadata": {
        "id": "1C2d4YByffRt"
      },
      "outputs": [],
      "source": [
        "# del로 튜플 삭제\n",
        "del fruit_tuple"
      ]
    },
    {
      "cell_type": "markdown",
      "metadata": {
        "id": "AYOpIpCxffRt"
      },
      "source": [
        "# 2.3.4 세트 "
      ]
    },
    {
      "cell_type": "markdown",
      "metadata": {
        "id": "yKFbEu-vffRt"
      },
      "source": [
        "## 2.3.4.1 세트 생성"
      ]
    },
    {
      "cell_type": "code",
      "execution_count": null,
      "metadata": {
        "id": "y65SgfINffRu"
      },
      "outputs": [],
      "source": [
        "fruit_set = {\"apple\", \"banana\", \"orange\"}"
      ]
    },
    {
      "cell_type": "code",
      "execution_count": null,
      "metadata": {
        "id": "WqDTVHVIffRu",
        "outputId": "3e70c6f4-2708-41f5-ae73-4e195051113b"
      },
      "outputs": [
        {
          "data": {
            "text/plain": [
              "{'apple', 'banana', 'orange'}"
            ]
          },
          "execution_count": 37,
          "metadata": {},
          "output_type": "execute_result"
        }
      ],
      "source": [
        "fruit_set = {\"apple\", \"banana\", \"orange\", \"apple\", \"banana\"}\n",
        "fruit_set  # 중복 허용하지 않음"
      ]
    },
    {
      "cell_type": "markdown",
      "metadata": {
        "id": "L2F2aGpPffRu"
      },
      "source": [
        "## 2.3.4.2 아이템 선택"
      ]
    },
    {
      "cell_type": "code",
      "execution_count": null,
      "metadata": {
        "id": "yuFqGSy-ffRu",
        "outputId": "e6cf5caa-afc3-4659-b814-85fddf5cbeb9"
      },
      "outputs": [
        {
          "ename": "TypeError",
          "evalue": "'set' object is not subscriptable",
          "output_type": "error",
          "traceback": [
            "\u001b[1;31m---------------------------------------------------------------------------\u001b[0m",
            "\u001b[1;31mTypeError\u001b[0m                                 Traceback (most recent call last)",
            "\u001b[1;32m<ipython-input-38-14fd45b2ed30>\u001b[0m in \u001b[0;36m<module>\u001b[1;34m\u001b[0m\n\u001b[0;32m      1\u001b[0m \u001b[1;31m# Set는 순서가 없기 때문에, 특정 아이템을 선택할 수 없음\u001b[0m\u001b[1;33m\u001b[0m\u001b[1;33m\u001b[0m\u001b[1;33m\u001b[0m\u001b[0m\n\u001b[1;32m----> 2\u001b[1;33m \u001b[0mfruit_set\u001b[0m\u001b[1;33m[\u001b[0m\u001b[1;36m1\u001b[0m\u001b[1;33m]\u001b[0m\u001b[1;33m\u001b[0m\u001b[1;33m\u001b[0m\u001b[0m\n\u001b[0m",
            "\u001b[1;31mTypeError\u001b[0m: 'set' object is not subscriptable"
          ]
        }
      ],
      "source": [
        "# Set는 순서가 없기 때문에, 특정 아이템을 선택할 수 없음\n",
        "fruit_set[1]"
      ]
    },
    {
      "cell_type": "markdown",
      "metadata": {
        "id": "bJxy4Ag6ffRu"
      },
      "source": [
        "## 2.3.4.3 아이템 추가"
      ]
    },
    {
      "cell_type": "markdown",
      "metadata": {
        "id": "_MSz1Bq1ffRu"
      },
      "source": [
        "<div class=\"alert alert-success\">\n",
        "[문제]현재 fruit_set에는 {'apple', 'banana', 'orange'} 세 개의 값이 들어 있습니다. “kiwi” 아이템을 추가하세요.\n",
        "</div>"
      ]
    },
    {
      "cell_type": "code",
      "execution_count": null,
      "metadata": {
        "id": "6RSlX8VUffRv",
        "outputId": "39566c82-dfb4-4373-8c40-c1d997adbe45"
      },
      "outputs": [
        {
          "data": {
            "text/plain": [
              "{'apple', 'banana', 'kiwi', 'orange'}"
            ]
          },
          "execution_count": 39,
          "metadata": {},
          "output_type": "execute_result"
        }
      ],
      "source": [
        "fruit_set.add(\"kiwi\")\n",
        "fruit_set"
      ]
    },
    {
      "cell_type": "markdown",
      "metadata": {
        "id": "U8f9El5GffRv"
      },
      "source": [
        "<div class=\"alert alert-success\">\n",
        "[문제]현재 fruit_set에는 {'apple', 'banana', 'kiwi', 'orange'} 네 개의 값이 들어 있습니다. vegetable_set에는 (\"carrot\", \"tomato\", \"onion\") 세 개의 아이템이 들어 있습니다. fruit_set에 vegetable_set에 담긴 아이템을 넣어보세요.\n",
        "</div>"
      ]
    },
    {
      "cell_type": "code",
      "execution_count": null,
      "metadata": {
        "id": "M_rZDX-7ffRv",
        "outputId": "c8cdbdb1-abe5-4435-b11b-c147c05b9530"
      },
      "outputs": [
        {
          "data": {
            "text/plain": [
              "{'apple', 'banana', 'carrot', 'kiwi', 'onion', 'orange', 'tomato'}"
            ]
          },
          "execution_count": 40,
          "metadata": {},
          "output_type": "execute_result"
        }
      ],
      "source": [
        "vegetable_set = (\"carrot\", \"tomato\", \"onion\")\n",
        "fruit_set.update(vegetable_set)\n",
        "fruit_set"
      ]
    },
    {
      "cell_type": "markdown",
      "metadata": {
        "id": "HSiX4JSWffRv"
      },
      "source": [
        "## 2.3.4.4 아이템 삭제"
      ]
    },
    {
      "cell_type": "code",
      "execution_count": null,
      "metadata": {
        "id": "bd2m7Fq-ffRv",
        "outputId": "aed60f42-2b71-4452-a2bb-0c2d29600365"
      },
      "outputs": [
        {
          "data": {
            "text/plain": [
              "{'apple', 'banana', 'carrot', 'kiwi', 'orange', 'tomato'}"
            ]
          },
          "execution_count": 41,
          "metadata": {},
          "output_type": "execute_result"
        }
      ],
      "source": [
        "fruit_set.remove(\"onion\")\n",
        "fruit_set"
      ]
    },
    {
      "cell_type": "code",
      "execution_count": null,
      "metadata": {
        "id": "_aJuqynKffRv",
        "outputId": "d7e3abed-81ab-46ca-a766-818f3c88c5db"
      },
      "outputs": [
        {
          "data": {
            "text/plain": [
              "set()"
            ]
          },
          "execution_count": 42,
          "metadata": {},
          "output_type": "execute_result"
        }
      ],
      "source": [
        "fruit_set.clear()\n",
        "fruit_set"
      ]
    },
    {
      "cell_type": "markdown",
      "metadata": {
        "id": "JBzhDD-qffRw"
      },
      "source": [
        "# 2.3.5 딕셔너리"
      ]
    },
    {
      "cell_type": "markdown",
      "metadata": {
        "id": "GZMijUi2ffRw"
      },
      "source": [
        "## 2.3.5.1 딕셔너리 생성"
      ]
    },
    {
      "cell_type": "code",
      "execution_count": null,
      "metadata": {
        "id": "TmcmXRP0ffRw",
        "outputId": "82f70702-edfd-47e3-9044-7224480ec2f7"
      },
      "outputs": [
        {
          "data": {
            "text/plain": [
              "{'name': 'Harry', 'age': 27, 'height': 190, 'weight': 99.9}"
            ]
          },
          "execution_count": 43,
          "metadata": {},
          "output_type": "execute_result"
        }
      ],
      "source": [
        "my_dict = {\n",
        "    \"name\": \"Harry\",\n",
        "    \"age\": 27,\n",
        "    \"height\" : 190,\n",
        "    \"weight\" : 99.9    \n",
        "}\n",
        "my_dict"
      ]
    },
    {
      "cell_type": "markdown",
      "metadata": {
        "id": "ofi8JdYaffRw"
      },
      "source": [
        "## 2.3.5.2 아이템 선택/추가"
      ]
    },
    {
      "cell_type": "code",
      "execution_count": null,
      "metadata": {
        "id": "0VR7HceAffRw",
        "outputId": "d27539f9-dec6-42eb-de3a-97bad70ff8f2"
      },
      "outputs": [
        {
          "data": {
            "text/plain": [
              "dict_keys(['name', 'age', 'height', 'weight'])"
            ]
          },
          "execution_count": 44,
          "metadata": {},
          "output_type": "execute_result"
        }
      ],
      "source": [
        "my_dict.keys()"
      ]
    },
    {
      "cell_type": "code",
      "execution_count": null,
      "metadata": {
        "id": "gNUGJjTnffRw",
        "outputId": "c90c0746-08cb-4490-9bbf-308ff0b89959"
      },
      "outputs": [
        {
          "data": {
            "text/plain": [
              "27"
            ]
          },
          "execution_count": 45,
          "metadata": {},
          "output_type": "execute_result"
        }
      ],
      "source": [
        "my_dict[\"age\"]"
      ]
    },
    {
      "cell_type": "code",
      "execution_count": null,
      "metadata": {
        "id": "PBgtyVXSffRw",
        "outputId": "cfd355db-2a74-4f6f-fc2f-0bee3f86c2ff"
      },
      "outputs": [
        {
          "data": {
            "text/plain": [
              "{'name': 'Harry', 'age': 28, 'height': 190, 'weight': 99.9}"
            ]
          },
          "execution_count": 46,
          "metadata": {},
          "output_type": "execute_result"
        }
      ],
      "source": [
        "my_dict[\"age\"] = 28\n",
        "my_dict"
      ]
    },
    {
      "cell_type": "code",
      "execution_count": null,
      "metadata": {
        "id": "Zuc204vmffRx",
        "outputId": "9fe0acb6-fb52-4700-fbb3-161c4f4a1ddf"
      },
      "outputs": [
        {
          "data": {
            "text/plain": [
              "{'name': 'Harry', 'age': 28, 'height': 190, 'weight': 100}"
            ]
          },
          "execution_count": 47,
          "metadata": {},
          "output_type": "execute_result"
        }
      ],
      "source": [
        "my_dict.update({\"weight\": 100})\n",
        "my_dict"
      ]
    },
    {
      "cell_type": "code",
      "execution_count": null,
      "metadata": {
        "id": "_ZVZdspgffRx",
        "outputId": "7a0c369a-b631-4872-c26a-b42c2774a63b"
      },
      "outputs": [
        {
          "data": {
            "text/plain": [
              "{'name': 'Harry', 'age': 28, 'height': 190, 'weight': 100, 'address': 'Busan'}"
            ]
          },
          "execution_count": 48,
          "metadata": {},
          "output_type": "execute_result"
        }
      ],
      "source": [
        "my_dict.update({\"address\": \"Busan\"})\n",
        "my_dict"
      ]
    },
    {
      "cell_type": "markdown",
      "metadata": {
        "id": "PDG5AZGbffRx"
      },
      "source": [
        "## 2.3.5.3 아이템 삭제"
      ]
    },
    {
      "cell_type": "markdown",
      "metadata": {
        "id": "TScc9BbKffRx"
      },
      "source": [
        "### ① popitem(): 마지막 아이템 삭제"
      ]
    },
    {
      "cell_type": "code",
      "execution_count": null,
      "metadata": {
        "id": "ohEXNpcxffRx",
        "outputId": "e7e2da95-1006-4c42-a254-691c4dc5ae44"
      },
      "outputs": [
        {
          "data": {
            "text/plain": [
              "('address', 'Busan')"
            ]
          },
          "execution_count": 49,
          "metadata": {},
          "output_type": "execute_result"
        }
      ],
      "source": [
        "my_dict.popitem()"
      ]
    },
    {
      "cell_type": "code",
      "execution_count": null,
      "metadata": {
        "id": "ghB_AP5iffRy",
        "outputId": "e753ca65-6d20-4899-f224-b76c16faf253"
      },
      "outputs": [
        {
          "data": {
            "text/plain": [
              "{'name': 'Harry', 'age': 28, 'height': 190, 'weight': 100}"
            ]
          },
          "execution_count": 50,
          "metadata": {},
          "output_type": "execute_result"
        }
      ],
      "source": [
        "my_dict"
      ]
    },
    {
      "cell_type": "markdown",
      "metadata": {
        "id": "WFU6T8kJffRy"
      },
      "source": [
        "### ② pop(): 특정 키(“age”) 값을 지정하여 아이템 삭제 "
      ]
    },
    {
      "cell_type": "code",
      "execution_count": null,
      "metadata": {
        "id": "0Pi078nbffRz",
        "outputId": "43edccc8-586e-4add-9d7c-67b59da1b31d"
      },
      "outputs": [
        {
          "data": {
            "text/plain": [
              "28"
            ]
          },
          "execution_count": 51,
          "metadata": {},
          "output_type": "execute_result"
        }
      ],
      "source": [
        "my_dict.pop(\"age\")"
      ]
    },
    {
      "cell_type": "code",
      "execution_count": null,
      "metadata": {
        "id": "OC3rUDYSffRz",
        "outputId": "ec19f9c2-4b43-459e-fe8b-71ef22f98d9d"
      },
      "outputs": [
        {
          "data": {
            "text/plain": [
              "{'name': 'Harry', 'height': 190, 'weight': 100}"
            ]
          },
          "execution_count": 52,
          "metadata": {},
          "output_type": "execute_result"
        }
      ],
      "source": [
        "my_dict"
      ]
    },
    {
      "cell_type": "markdown",
      "metadata": {
        "id": "7xuSddO1ffRz"
      },
      "source": [
        "### ③ clear(): 딕셔너리 안에 있는 아이템을 모두 삭제 "
      ]
    },
    {
      "cell_type": "code",
      "execution_count": null,
      "metadata": {
        "id": "flszT-lwffRz",
        "outputId": "4c48ce26-5a55-400f-bc21-ae70891854c3"
      },
      "outputs": [
        {
          "data": {
            "text/plain": [
              "{}"
            ]
          },
          "execution_count": 53,
          "metadata": {},
          "output_type": "execute_result"
        }
      ],
      "source": [
        "my_dict.clear()\n",
        "my_dict"
      ]
    },
    {
      "cell_type": "code",
      "execution_count": null,
      "metadata": {
        "id": "dxD-P9sDffR0"
      },
      "outputs": [],
      "source": []
    }
  ],
  "metadata": {
    "kernelspec": {
      "display_name": "Python 3",
      "language": "python",
      "name": "python3"
    },
    "language_info": {
      "codemirror_mode": {
        "name": "ipython",
        "version": 3
      },
      "file_extension": ".py",
      "mimetype": "text/x-python",
      "name": "python",
      "nbconvert_exporter": "python",
      "pygments_lexer": "ipython3",
      "version": "3.8.5"
    },
    "toc": {
      "base_numbering": 1,
      "nav_menu": {},
      "number_sections": false,
      "sideBar": true,
      "skip_h1_title": false,
      "title_cell": "Table of Contents",
      "title_sidebar": "Contents",
      "toc_cell": false,
      "toc_position": {},
      "toc_section_display": true,
      "toc_window_display": true
    },
    "colab": {
      "provenance": [],
      "include_colab_link": true
    }
  },
  "nbformat": 4,
  "nbformat_minor": 0
}