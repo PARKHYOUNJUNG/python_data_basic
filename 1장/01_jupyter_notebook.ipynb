{
 "cells": [
  {
   "cell_type": "code",
   "execution_count": 1,
   "metadata": {},
   "outputs": [
    {
     "name": "stdout",
     "output_type": "stream",
     "text": [
      "Hello Python\n"
     ]
    }
   ],
   "source": [
    "print(\"Hello Python\")"
   ]
  },
  {
   "cell_type": "code",
   "execution_count": 1,
   "metadata": {},
   "outputs": [
    {
     "data": {
      "text/plain": [
       "8"
      ]
     },
     "execution_count": 1,
     "metadata": {},
     "output_type": "execute_result"
    }
   ],
   "source": [
    "3+5"
   ]
  },
  {
   "cell_type": "code",
   "execution_count": 2,
   "metadata": {},
   "outputs": [
    {
     "data": {
      "text/plain": [
       "45"
      ]
     },
     "execution_count": 2,
     "metadata": {},
     "output_type": "execute_result"
    }
   ],
   "source": [
    "5*9"
   ]
  },
  {
   "cell_type": "code",
   "execution_count": 3,
   "metadata": {},
   "outputs": [],
   "source": [
    "# 주석은 실행되지 않습니다\n",
    "# ctrl + / 를 함께 누르면\n",
    "# 해당 구문이 주석으로 변경됩니다."
   ]
  },
  {
   "cell_type": "markdown",
   "metadata": {},
   "source": [
    "# Jupyter Notebook\n",
    "## 헤더 2\n",
    "### 헤더 3\n",
    "#### 헤더 4\n",
    "##### 헤더 5\n",
    "\n",
    "마크다운 모드는 셀 편집 모드에서 m 을 눌러 변경합니다.\n",
    "\n",
    "\n",
    "## 리스트\n",
    "순서가 없는 리스트 만들기\n",
    "* 하나\n",
    "* 둘\n",
    "* 셋\n",
    "\n",
    "\n",
    "순서가 있는 리스트 만들기\n",
    "1. 하나\n",
    "2. 둘\n",
    "3. 셋\n",
    "\n",
    "\n",
    "탭을 이용한 순서가 없는 서브리스트\n",
    "* 첫번째\n",
    "     - 서브리스트 1\n",
    "         - 아이템 1\n",
    "         - 아이템 2\n",
    "     - 서브리스트 2\n",
    "        - 아이템 3\n",
    "* 두번째\n",
    "     - 서브리스트 3\n",
    "     \n",
    "     \n",
    "탭을 이용한 순서가 있는 서브리스트\n",
    "1. 첫번째\n",
    " 1. 서브리스트 1\n",
    " 2. 서브리스트 2\n",
    "2. 두번째\n",
    "3. 세번째\n",
    "\n",
    "\n",
    "## 구분선 넣기\n",
    "------------------------------\n",
    "\n",
    "\n",
    "## 글자 효과\n",
    "\n",
    "\n",
    "**굵게**\n",
    "\n",
    "\n",
    "<u>밑줄</u>\n",
    "\n",
    "\n",
    "~~취소선~~\n",
    "\n",
    "\n",
    "*기울이기*\n",
    "\n",
    "\n",
    "## 표\n",
    "| 번호 | 이름 |\n",
    "|------|------|\n",
    "| 1 | 개구리|\n",
    "| 2 | 도마뱀|\n",
    "\n",
    "\n",
    "## 이미지\n",
    "\n",
    "<img src=\"https://www.python.org/static/img/python-logo.png\"/>\n",
    "\n",
    "\n",
    "## 인용글\n",
    "\n",
    "> 산토끼 토끼야\n",
    "> 어디를 가느냐\n",
    "> 깡총깡총 뛰면서\n",
    "> 어디를 가느냐"
   ]
  },
  {
   "cell_type": "code",
   "execution_count": null,
   "metadata": {},
   "outputs": [],
   "source": []
  },
  {
   "cell_type": "code",
   "execution_count": null,
   "metadata": {},
   "outputs": [],
   "source": []
  }
 ],
 "metadata": {
  "kernelspec": {
   "display_name": "Python 3",
   "language": "python",
   "name": "python3"
  },
  "language_info": {
   "codemirror_mode": {
    "name": "ipython",
    "version": 3
   },
   "file_extension": ".py",
   "mimetype": "text/x-python",
   "name": "python",
   "nbconvert_exporter": "python",
   "pygments_lexer": "ipython3",
   "version": "3.8.5"
  },
  "toc": {
   "base_numbering": 1,
   "nav_menu": {},
   "number_sections": false,
   "sideBar": true,
   "skip_h1_title": false,
   "title_cell": "Table of Contents",
   "title_sidebar": "Contents",
   "toc_cell": false,
   "toc_position": {},
   "toc_section_display": true,
   "toc_window_display": false
  }
 },
 "nbformat": 4,
 "nbformat_minor": 4
}
